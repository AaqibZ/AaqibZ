{
  "nbformat": 4,
  "nbformat_minor": 0,
  "metadata": {
    "colab": {
      "provenance": [],
      "authorship_tag": "ABX9TyNl7QYhOZlfKzHm7eeEpRly",
      "include_colab_link": true
    },
    "kernelspec": {
      "name": "python3",
      "display_name": "Python 3"
    },
    "language_info": {
      "name": "python"
    }
  },
  "cells": [
    {
      "cell_type": "markdown",
      "metadata": {
        "id": "view-in-github",
        "colab_type": "text"
      },
      "source": [
        "<a href=\"https://colab.research.google.com/github/AaqibZ/AaqibZ/blob/main/Testing_Tempo_Code.ipynb\" target=\"_parent\"><img src=\"https://colab.research.google.com/assets/colab-badge.svg\" alt=\"Open In Colab\"/></a>"
      ]
    },
    {
      "cell_type": "code",
      "execution_count": 19,
      "metadata": {
        "id": "RzBsJxfQjWFp"
      },
      "outputs": [],
      "source": [
        "import pandas as pd\n",
        "import random\n",
        "import os\n",
        "import sys\n",
        "import numpy as np\n",
        "import logging\n",
        "import pickle\n",
        "from tqdm import tqdm\n",
        "from functools import partial\n",
        "from matplotlib import pyplot as plt\n",
        "import multiprocessing\n",
        "import joblib"
      ]
    },
    {
      "cell_type": "code",
      "source": [
        "from timlinucb import (\n",
        "    generate_node2vec_fetures,\n",
        "    timlinucb,\n",
        "    timlinucb_parallel_oim,\n",
        "    timlinucb_parallel_t,\n",
        ")"
      ],
      "metadata": {
        "id": "nI6ibA_TjrdA"
      },
      "execution_count": null,
      "outputs": []
    },
    {
      "cell_type": "code",
      "source": [
        "from helpers import tim_t, tqdm_joblib, tim_t_parallel, run_algorithm\n",
        "from rsb import rsb\n"
      ],
      "metadata": {
        "id": "8o1iXGLimp_8"
      },
      "execution_count": null,
      "outputs": []
    },
    {
      "cell_type": "code",
      "source": [
        "random.seed(42)\n",
        "plt.style.use(\"ggplot\")\n",
        "pd.options.mode.chained_assignment = None  # default='warn'\n",
        "NUMEXPR_MAX_THREADS = 8  # For RSB\n",
        "\n",
        "# Setting up logging\n",
        "VERBOSE = True\n",
        "LOGGING_FMT = (\n",
        "    \"%(levelname)s | %(asctime)s | line %(lineno)s | %(funcName)s | %(message)s\"\n",
        ")\n",
        "LOGGING_DATEFMT = \"%H:%M:%S\"\n",
        "\n",
        "logging_conf = partial(\n",
        "    logging.basicConfig, format=LOGGING_FMT, datefmt=LOGGING_DATEFMT, stream=sys.stdout\n",
        ")\n",
        "\n",
        "if VERBOSE:\n",
        "    logging_conf(level=logging.DEBUG)\n",
        "else:\n",
        "    logging_conf(level=logging.INFO)"
      ],
      "metadata": {
        "id": "Cs1cqzlTwT4K"
      },
      "execution_count": 18,
      "outputs": []
    },
    {
      "cell_type": "code",
      "source": [
        "DATASET_DIR = os.path.join(\"\", \"/content/Datasets\")\n",
        "if not os.path.exists(DATASET_DIR):\n",
        "    print(\"Can't find the dataset directory!\")\n",
        "DATASET_FACEBOOK = os.path.join(\n",
        "    DATASET_DIR, \"fb-wosn-friends\", \"fb-wosn-friends-clean.edges\"\n",
        ")\n",
        "DATASET_DIGG = os.path.join(DATASET_DIR, \"digg-friends\", \"digg-friends.edges\")\n",
        "DATASET_SCHOOL = os.path.join(\n",
        "    DATASET_DIR, \"ia-primary-school-proximity\", \"ia-primary-school-proximity.edges\"\n",
        ")"
      ],
      "metadata": {
        "id": "yUTYOYVULcnH"
      },
      "execution_count": 26,
      "outputs": []
    },
    {
      "cell_type": "code",
      "source": [
        "NUMBER_OF_DAYS = 20\n",
        "# NUMBER_OF_DAYS = \"ALL\"\n",
        "NUM_FEATURES_NODE2VEC = 20\n",
        "NUM_SEEDS_TO_FIND = 5"
      ],
      "metadata": {
        "id": "oIl4TbLMMDOa"
      },
      "execution_count": 27,
      "outputs": []
    },
    {
      "cell_type": "code",
      "source": [
        "logging.debug(\"Processing the Digg dataset...\")\n",
        "logging.debug(\"Getting the graph...\")\n",
        "df_digg = pd.read_csv(\n",
        "    DATASET_DIGG, sep=\" \", names=[\"source\", \"target\", \"timestamp\"], skiprows=1,\n",
        ")\n",
        "\n",
        "# Processing the dataframe\n",
        "logging.debug(\"Splitting the graph into time steps...\")\n",
        "df_digg[\"day\"] = pd.to_datetime(df_digg[\"timestamp\"], unit=\"s\").dt.floor(\"d\")\n",
        "df_digg = df_digg.sort_values(by=[\"timestamp\", \"source\", \"target\"])\n",
        "df_digg = df_digg[[\"source\", \"target\", \"day\"]]\n",
        "df_digg_nodes = np.sort(np.unique(np.hstack((df_digg[\"source\"], df_digg[\"target\"]))))\n",
        "\n",
        "# Getting the true weights\n",
        "logging.debug('Generating \"true\" activation probabilities...')\n",
        "df_digg[\"probab\"] = np.random.uniform(0, 0.1, size=df_digg.shape[0])\n",
        "# df_digg['probab'] = np.random.uniform(0, 1, size=df_digg.shape[0])\n",
        "if NUMBER_OF_DAYS == \"ALL\":\n",
        "    df_digg_times = np.sort(np.unique(df_digg[\"day\"]))[0:]\n",
        "else:\n",
        "    df_digg_times = np.sort(np.unique(df_digg[\"day\"]))[0:NUMBER_OF_DAYS]\n",
        "\n"
      ],
      "metadata": {
        "id": "rKNMyeVSMHPZ"
      },
      "execution_count": 29,
      "outputs": []
    },
    {
      "cell_type": "code",
      "source": [
        "logging.debug(\"Generating node2vec features...\")"
      ],
      "metadata": {
        "id": "hCNYAnwZMu87"
      },
      "execution_count": 31,
      "outputs": []
    },
    {
      "cell_type": "code",
      "source": [
        "from google.colab import drive\n",
        "drive.mount('/content/drive')"
      ],
      "metadata": {
        "colab": {
          "base_uri": "https://localhost:8080/"
        },
        "id": "us17-fKWUoBZ",
        "outputId": "8c85d87c-ea3c-4644-9e6a-3ecc234aea95"
      },
      "execution_count": 38,
      "outputs": [
        {
          "output_type": "stream",
          "name": "stdout",
          "text": [
            "Mounted at /content/drive\n"
          ]
        }
      ]
    },
    {
      "cell_type": "code",
      "source": [
        "import os\n",
        "from google.colab import drive\n",
        "\n",
        "# Mount Google Drive\n",
        "drive.mount('/content/drive')\n",
        "\n",
        "# Create a folder in the root directory\n",
        "!mkdir -p \"/content/drive/My Drive/ResearchExperiment\""
      ],
      "metadata": {
        "colab": {
          "base_uri": "https://localhost:8080/"
        },
        "id": "EN1x3g0sU88T",
        "outputId": "cd4aa270-71cb-47dc-8d42-2d7b7cb4511e"
      },
      "execution_count": 40,
      "outputs": [
        {
          "output_type": "stream",
          "name": "stdout",
          "text": [
            "Drive already mounted at /content/drive; to attempt to forcibly remount, call drive.mount(\"/content/drive\", force_remount=True).\n"
          ]
        }
      ]
    },
    {
      "cell_type": "code",
      "source": [
        "import os\n",
        "\n",
        "# Mount Google Drive\n",
        "from google.colab import drive\n",
        "drive.mount('/content/drive')\n",
        "\n",
        "# Create a folder in the root directory\n",
        "!mkdir -p \"/content/drive/My Drive/My Folder\"\n",
        "\n",
        "# Write a sample file to Google Drive\n",
        "with open('/content/drive/My Drive/My Folder/sample.txt', 'w') as f:\n",
        "  f.write('Hello, World!')"
      ],
      "metadata": {
        "colab": {
          "base_uri": "https://localhost:8080/"
        },
        "id": "na6-_gzEVJHC",
        "outputId": "e0ab05ef-c704-498d-c414-2776ffacf0e4"
      },
      "execution_count": 41,
      "outputs": [
        {
          "output_type": "stream",
          "name": "stdout",
          "text": [
            "Drive already mounted at /content/drive; to attempt to forcibly remount, call drive.mount(\"/content/drive\", force_remount=True).\n"
          ]
        }
      ]
    },
    {
      "cell_type": "code",
      "source": [
        "import os\n",
        "\n",
        "# Mount Google Drive\n",
        "from google.colab import drive\n",
        "drive.mount('/content/drive')\n",
        "\n",
        "# Create a folder in the root directory\n",
        "!mkdir -p \"/content/drive/My Drive/ResearchExperiments\"\n",
        "\n",
        "# Write a sample file to Google Drive\n",
        "with open('/content/drive/My Drive/My Folder/Testing Tempo Code', 'w') as f:"
      ],
      "metadata": {
        "colab": {
          "base_uri": "https://localhost:8080/",
          "height": 131
        },
        "id": "T3jZZaDqVyfl",
        "outputId": "2b52d3f4-3948-4673-d5ef-290467e3449f"
      },
      "execution_count": 43,
      "outputs": [
        {
          "output_type": "error",
          "ename": "SyntaxError",
          "evalue": "ignored",
          "traceback": [
            "\u001b[0;36m  File \u001b[0;32m\"<ipython-input-43-fef486d5e906>\"\u001b[0;36m, line \u001b[0;32m11\u001b[0m\n\u001b[0;31m    with open('/content/drive/My Drive/My Folder/Testing Tempo Code', 'w') as f:\u001b[0m\n\u001b[0m                                                                                ^\u001b[0m\n\u001b[0;31mSyntaxError\u001b[0m\u001b[0;31m:\u001b[0m incomplete input\n"
          ]
        }
      ]
    },
    {
      "cell_type": "code",
      "source": [
        "drive.flush_and_unmount()"
      ],
      "metadata": {
        "id": "HbNkf294WYMu"
      },
      "execution_count": 44,
      "outputs": []
    }
  ]
}